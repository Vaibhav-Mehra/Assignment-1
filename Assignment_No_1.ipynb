{
  "nbformat": 4,
  "nbformat_minor": 0,
  "metadata": {
    "colab": {
      "name": "Assignment No. 1.ipynb",
      "provenance": [],
      "collapsed_sections": [],
      "authorship_tag": "ABX9TyPnqvS0D+c7e8qy4OC3FS6R",
      "include_colab_link": true
    },
    "kernelspec": {
      "name": "python3",
      "display_name": "Python 3"
    },
    "language_info": {
      "name": "python"
    }
  },
  "cells": [
    {
      "cell_type": "markdown",
      "metadata": {
        "id": "view-in-github",
        "colab_type": "text"
      },
      "source": [
        "<a href=\"https://colab.research.google.com/github/Vaibhav-Mehra/Assignment-1/blob/main/Assignment_No_1.ipynb\" target=\"_parent\"><img src=\"https://colab.research.google.com/assets/colab-badge.svg\" alt=\"Open In Colab\"/></a>"
      ]
    },
    {
      "cell_type": "code",
      "execution_count": null,
      "metadata": {
        "colab": {
          "base_uri": "https://localhost:8080/"
        },
        "id": "9Dg_DU6vrTv7",
        "outputId": "77793623-d701-4392-8b8d-1cce1edf5015"
      },
      "outputs": [
        {
          "output_type": "stream",
          "name": "stdout",
          "text": [
            "Enter the first number: 4\n",
            "Enter the second number: 5\n",
            "Enter the third number: 6\n",
            "The average of the three numbers is: 5.0\n"
          ]
        }
      ],
      "source": [
        "A = int(input(\"Enter the first number: \"))\n",
        "B = int(input(\"Enter the second number: \"))\n",
        "C = int(input(\"Enter the third number: \"))\n",
        "D = (A + B + C) / 3\n",
        "print(\"The average of the three numbers is:\", D)"
      ]
    },
    {
      "cell_type": "code",
      "source": [
        "A = float(input(\"Enter your gross income to the nearest penny: \"))\n",
        "B = int(input(\"Enter the number of dependents: \"))\n",
        "C = 3000 * B\n",
        "D = A - C - 10000\n",
        "print(\"Your annual income tax is:\", D/5, (\"$\"))"
      ],
      "metadata": {
        "colab": {
          "base_uri": "https://localhost:8080/"
        },
        "id": "NSpySOKq7tkE",
        "outputId": "5f43376b-324c-4010-cd3a-ec1355592cbe"
      },
      "execution_count": null,
      "outputs": [
        {
          "output_type": "stream",
          "name": "stdout",
          "text": [
            "Enter your gross income to the nearest penny900000\n",
            "Enter the number of dependents5\n",
            "Your annual income tax is: 175000.0 $\n"
          ]
        }
      ]
    },
    {
      "cell_type": "code",
      "source": [
        "A = int(input(\"Enter the desired number of seconds: \"))\n",
        "B = A // 60\n",
        "C = A % 60\n",
        "print(A, \"seconds is\", B, \"minutes and\", C, \"seconds\")"
      ],
      "metadata": {
        "colab": {
          "base_uri": "https://localhost:8080/"
        },
        "id": "8yEg-2018k6b",
        "outputId": "910ff646-517b-49e4-9777-30cbaf5d1e29"
      },
      "execution_count": null,
      "outputs": [
        {
          "output_type": "stream",
          "name": "stdout",
          "text": [
            "Enter the desired number of seconds80\n",
            "80 seconds is 1 minutes and 20 seconds\n"
          ]
        }
      ]
    },
    {
      "cell_type": "code",
      "source": [
        "A = int(25)\n",
        "B = '25'\n",
        "C = float(25.0)\n",
        "D = int(B)\n",
        "E = int(C)\n",
        "F = (A+D+E)\n",
        "print(str(F))"
      ],
      "metadata": {
        "colab": {
          "base_uri": "https://localhost:8080/"
        },
        "id": "6YLfLCjR9E3A",
        "outputId": "bfeee1e5-94e8-46b2-f29d-31ab6ce1ef2e"
      },
      "execution_count": 11,
      "outputs": [
        {
          "output_type": "stream",
          "name": "stdout",
          "text": [
            "75\n"
          ]
        }
      ]
    },
    {
      "cell_type": "code",
      "source": [
        "A = 0\n",
        "for A in range(0, 345, 15):\n",
        "   import math\n",
        "   B = math.radians(A)\n",
        "   C = round(math.sin(B), 4)\n",
        "   D = round(math.cos(B), 4)\n",
        "   A = A + 15\n",
        "\n",
        "   print(\"sin of\", A-15, \"degrees is:\", C, \" cosine of\", A-15, \"degrees is:\", D) "
      ],
      "metadata": {
        "colab": {
          "base_uri": "https://localhost:8080/"
        },
        "id": "gbdZMjAC9jFo",
        "outputId": "3b38ef8a-b60f-44a0-c951-9e38048e28fd"
      },
      "execution_count": null,
      "outputs": [
        {
          "output_type": "stream",
          "name": "stdout",
          "text": [
            "sin of 0 degrees is: 0.0  cos of 0 degrees is: 1.0\n",
            "sin of 15 degrees is: 0.2588  cos of 15 degrees is: 0.9659\n",
            "sin of 30 degrees is: 0.5  cos of 30 degrees is: 0.866\n",
            "sin of 45 degrees is: 0.7071  cos of 45 degrees is: 0.7071\n",
            "sin of 60 degrees is: 0.866  cos of 60 degrees is: 0.5\n",
            "sin of 75 degrees is: 0.9659  cos of 75 degrees is: 0.2588\n",
            "sin of 90 degrees is: 1.0  cos of 90 degrees is: 0.0\n",
            "sin of 105 degrees is: 0.9659  cos of 105 degrees is: -0.2588\n",
            "sin of 120 degrees is: 0.866  cos of 120 degrees is: -0.5\n",
            "sin of 135 degrees is: 0.7071  cos of 135 degrees is: -0.7071\n",
            "sin of 150 degrees is: 0.5  cos of 150 degrees is: -0.866\n",
            "sin of 165 degrees is: 0.2588  cos of 165 degrees is: -0.9659\n",
            "sin of 180 degrees is: 0.0  cos of 180 degrees is: -1.0\n",
            "sin of 195 degrees is: -0.2588  cos of 195 degrees is: -0.9659\n",
            "sin of 210 degrees is: -0.5  cos of 210 degrees is: -0.866\n",
            "sin of 225 degrees is: -0.7071  cos of 225 degrees is: -0.7071\n",
            "sin of 240 degrees is: -0.866  cos of 240 degrees is: -0.5\n",
            "sin of 255 degrees is: -0.9659  cos of 255 degrees is: -0.2588\n",
            "sin of 270 degrees is: -1.0  cos of 270 degrees is: -0.0\n",
            "sin of 285 degrees is: -0.9659  cos of 285 degrees is: 0.2588\n",
            "sin of 300 degrees is: -0.866  cos of 300 degrees is: 0.5\n",
            "sin of 315 degrees is: -0.7071  cos of 315 degrees is: 0.7071\n",
            "sin of 330 degrees is: -0.5  cos of 330 degrees is: 0.866\n"
          ]
        }
      ]
    }
  ]
}
